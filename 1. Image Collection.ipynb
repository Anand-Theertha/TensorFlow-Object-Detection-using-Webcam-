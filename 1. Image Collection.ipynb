{
 "cells": [
  {
   "cell_type": "markdown",
   "metadata": {},
   "source": [
    "# 1. Import Dependencies"
   ]
  },
  {
   "cell_type": "code",
   "execution_count": 6,
   "metadata": {
    "scrolled": false
   },
   "outputs": [
    {
     "name": "stdout",
     "output_type": "stream",
     "text": [
      "Requirement already satisfied: opencv-python in e:\\tfod\\tfodcourse\\tfod\\lib\\site-packages (4.5.3.56)\n",
      "Requirement already satisfied: numpy>=1.17.3 in e:\\tfod\\tfodcourse\\tfod\\lib\\site-packages (from opencv-python) (1.21.2)\n"
     ]
    }
   ],
   "source": [
    "!pip install opencv-python"
   ]
  },
  {
   "cell_type": "code",
   "execution_count": 3,
   "metadata": {},
   "outputs": [],
   "source": [
    "# Import opencv\n",
    "import cv2 \n",
    "\n",
    "# Import uuid\n",
    "import uuid\n",
    "\n",
    "# Import Operating System\n",
    "import os\n",
    "\n",
    "# Import time\n",
    "import time"
   ]
  },
  {
   "cell_type": "markdown",
   "metadata": {},
   "source": [
    "# 2. Define Images to Collect"
   ]
  },
  {
   "cell_type": "code",
   "execution_count": 11,
   "metadata": {},
   "outputs": [],
   "source": [
    "labels = ['thumbsup', 'thumbsdown', 'peace', 'livelong']\n",
    "number_imgs = 5"
   ]
  },
  {
   "cell_type": "markdown",
   "metadata": {},
   "source": [
    "# 3. Setup Folders "
   ]
  },
  {
   "cell_type": "code",
   "execution_count": 14,
   "metadata": {},
   "outputs": [],
   "source": [
    "IMAGES_PATH = os.path.join('Tensorflow', 'workspace', 'images', 'collectedimages')"
   ]
  },
  {
   "cell_type": "code",
   "execution_count": 15,
   "metadata": {},
   "outputs": [],
   "source": [
    "if not os.path.exists(IMAGES_PATH):\n",
    "    if os.name == 'posix':\n",
    "        !mkdir -p {IMAGES_PATH}\n",
    "    if os.name == 'nt':\n",
    "         !mkdir {IMAGES_PATH}\n",
    "for label in labels:\n",
    "    path = os.path.join(IMAGES_PATH, label)\n",
    "    if not os.path.exists(path):\n",
    "        !mkdir {path}"
   ]
  },
  {
   "cell_type": "markdown",
   "metadata": {},
   "source": [
    "# 4. Capture Images"
   ]
  },
  {
   "cell_type": "code",
   "execution_count": 18,
   "metadata": {
    "scrolled": true
   },
   "outputs": [
    {
     "name": "stdout",
     "output_type": "stream",
     "text": [
      "Collecting images for thumbsup\n",
      "Collecting image 0\n"
     ]
    },
    {
     "ename": "error",
     "evalue": "OpenCV(4.5.3) C:\\Users\\runneradmin\\AppData\\Local\\Temp\\pip-req-build-q3d_8t8e\\opencv\\modules\\imgcodecs\\src\\loadsave.cpp:803: error: (-215:Assertion failed) !_img.empty() in function 'cv::imwrite'\n",
     "output_type": "error",
     "traceback": [
      "\u001b[1;31m---------------------------------------------------------------------------\u001b[0m",
      "\u001b[1;31merror\u001b[0m                                     Traceback (most recent call last)",
      "\u001b[1;32m~\\AppData\\Local\\Temp/ipykernel_8388/264192334.py\u001b[0m in \u001b[0;36m<module>\u001b[1;34m\u001b[0m\n\u001b[0;32m      7\u001b[0m         \u001b[0mret\u001b[0m\u001b[1;33m,\u001b[0m \u001b[0mframe\u001b[0m \u001b[1;33m=\u001b[0m \u001b[0mcap\u001b[0m\u001b[1;33m.\u001b[0m\u001b[0mread\u001b[0m\u001b[1;33m(\u001b[0m\u001b[1;33m)\u001b[0m\u001b[1;33m\u001b[0m\u001b[1;33m\u001b[0m\u001b[0m\n\u001b[0;32m      8\u001b[0m         \u001b[0mimgname\u001b[0m \u001b[1;33m=\u001b[0m \u001b[0mos\u001b[0m\u001b[1;33m.\u001b[0m\u001b[0mpath\u001b[0m\u001b[1;33m.\u001b[0m\u001b[0mjoin\u001b[0m\u001b[1;33m(\u001b[0m\u001b[0mIMAGES_PATH\u001b[0m\u001b[1;33m,\u001b[0m\u001b[0mlabel\u001b[0m\u001b[1;33m,\u001b[0m\u001b[0mlabel\u001b[0m\u001b[1;33m+\u001b[0m\u001b[1;34m'.'\u001b[0m\u001b[1;33m+\u001b[0m\u001b[1;34m'{}.jpg'\u001b[0m\u001b[1;33m.\u001b[0m\u001b[0mformat\u001b[0m\u001b[1;33m(\u001b[0m\u001b[0mstr\u001b[0m\u001b[1;33m(\u001b[0m\u001b[0muuid\u001b[0m\u001b[1;33m.\u001b[0m\u001b[0muuid1\u001b[0m\u001b[1;33m(\u001b[0m\u001b[1;33m)\u001b[0m\u001b[1;33m)\u001b[0m\u001b[1;33m)\u001b[0m\u001b[1;33m)\u001b[0m\u001b[1;33m\u001b[0m\u001b[1;33m\u001b[0m\u001b[0m\n\u001b[1;32m----> 9\u001b[1;33m         \u001b[0mcv2\u001b[0m\u001b[1;33m.\u001b[0m\u001b[0mimwrite\u001b[0m\u001b[1;33m(\u001b[0m\u001b[0mimgname\u001b[0m\u001b[1;33m,\u001b[0m \u001b[0mframe\u001b[0m\u001b[1;33m)\u001b[0m\u001b[1;33m\u001b[0m\u001b[1;33m\u001b[0m\u001b[0m\n\u001b[0m\u001b[0;32m     10\u001b[0m         \u001b[0mcv2\u001b[0m\u001b[1;33m.\u001b[0m\u001b[0mimshow\u001b[0m\u001b[1;33m(\u001b[0m\u001b[1;34m'frame'\u001b[0m\u001b[1;33m,\u001b[0m \u001b[0mframe\u001b[0m\u001b[1;33m)\u001b[0m\u001b[1;33m\u001b[0m\u001b[1;33m\u001b[0m\u001b[0m\n\u001b[0;32m     11\u001b[0m         \u001b[0mtime\u001b[0m\u001b[1;33m.\u001b[0m\u001b[0msleep\u001b[0m\u001b[1;33m(\u001b[0m\u001b[1;36m2\u001b[0m\u001b[1;33m)\u001b[0m\u001b[1;33m\u001b[0m\u001b[1;33m\u001b[0m\u001b[0m\n",
      "\u001b[1;31merror\u001b[0m: OpenCV(4.5.3) C:\\Users\\runneradmin\\AppData\\Local\\Temp\\pip-req-build-q3d_8t8e\\opencv\\modules\\imgcodecs\\src\\loadsave.cpp:803: error: (-215:Assertion failed) !_img.empty() in function 'cv::imwrite'\n"
     ]
    }
   ],
   "source": [
    "for label in labels:\n",
    "    cap = cv2.VideoCapture(0)\n",
    "    print('Collecting images for {}'.format(label))\n",
    "    time.sleep(5)\n",
    "    for imgnum in range(number_imgs):\n",
    "        print('Collecting image {}'.format(imgnum))\n",
    "        ret, frame = cap.read()\n",
    "        imgname = os.path.join(IMAGES_PATH,label,label+'.'+'{}.jpg'.format(str(uuid.uuid1())))\n",
    "        cv2.imwrite(imgname, frame)\n",
    "        cv2.imshow('frame', frame)\n",
    "        time.sleep(2)\n",
    "\n",
    "        if cv2.waitKey(1) & 0xFF == ord('q'):\n",
    "            break\n",
    "cap.release()\n",
    "cv2.destroyAllWindows()"
   ]
  },
  {
   "cell_type": "markdown",
   "metadata": {},
   "source": [
    "# 5. Image Labelling"
   ]
  },
  {
   "cell_type": "code",
   "execution_count": 19,
   "metadata": {
    "scrolled": false
   },
   "outputs": [
    {
     "name": "stdout",
     "output_type": "stream",
     "text": [
      "Collecting pyqt5\n",
      "  Downloading PyQt5-5.15.4-cp36.cp37.cp38.cp39-none-win_amd64.whl (6.8 MB)\n",
      "Collecting lxml\n",
      "  Downloading lxml-4.6.3-cp38-cp38-win_amd64.whl (3.5 MB)\n",
      "Collecting PyQt5-sip<13,>=12.8\n",
      "  Downloading PyQt5_sip-12.9.0-cp38-cp38-win_amd64.whl (63 kB)\n",
      "Collecting PyQt5-Qt5>=5.15\n",
      "  Downloading PyQt5_Qt5-5.15.2-py3-none-win_amd64.whl (50.1 MB)\n",
      "Installing collected packages: PyQt5-sip, PyQt5-Qt5, pyqt5, lxml\n",
      "Successfully installed PyQt5-Qt5-5.15.2 PyQt5-sip-12.9.0 lxml-4.6.3 pyqt5-5.15.4\n"
     ]
    }
   ],
   "source": [
    "!pip install --upgrade pyqt5 lxml"
   ]
  },
  {
   "cell_type": "code",
   "execution_count": 20,
   "metadata": {},
   "outputs": [],
   "source": [
    "LABELIMG_PATH = os.path.join('Tensorflow', 'labelimg')"
   ]
  },
  {
   "cell_type": "code",
   "execution_count": 21,
   "metadata": {},
   "outputs": [
    {
     "name": "stderr",
     "output_type": "stream",
     "text": [
      "Cloning into 'Tensorflow\\labelimg'...\n"
     ]
    }
   ],
   "source": [
    "if not os.path.exists(LABELIMG_PATH):\n",
    "    !mkdir {LABELIMG_PATH}\n",
    "    !git clone https://github.com/tzutalin/labelImg {LABELIMG_PATH}"
   ]
  },
  {
   "cell_type": "code",
   "execution_count": 22,
   "metadata": {},
   "outputs": [],
   "source": [
    "if os.name == 'posix':\n",
    "    !make qt5py3\n",
    "if os.name =='nt':\n",
    "    !cd {LABELIMG_PATH} && pyrcc5 -o libs/resources.py resources.qrc"
   ]
  },
  {
   "cell_type": "code",
   "execution_count": 23,
   "metadata": {
    "scrolled": true
   },
   "outputs": [
    {
     "name": "stdout",
     "output_type": "stream",
     "text": [
      "Image:E:\\TFOD\\TFODCourse\\Tensorflow\\workspace\\images\\collectedimages\\livelong\\livelong.7de7f08c-1ae3-11ec-a6e5-f8281984c232.jpg -> Annotation:E:/TFOD/TFODCourse/Tensorflow/workspace/images/collectedimages/livelong/livelong.7de7f08c-1ae3-11ec-a6e5-f8281984c232.xml\n",
      "Image:E:\\TFOD\\TFODCourse\\Tensorflow\\workspace\\images\\collectedimages\\livelong\\livelong.7f1ffccb-1ae3-11ec-845d-f8281984c232.jpg -> Annotation:E:/TFOD/TFODCourse/Tensorflow/workspace/images/collectedimages/livelong/livelong.7f1ffccb-1ae3-11ec-845d-f8281984c232.xml\n",
      "Image:E:\\TFOD\\TFODCourse\\Tensorflow\\workspace\\images\\collectedimages\\livelong\\livelong.82d576ac-1ae3-11ec-b581-f8281984c232.jpg -> Annotation:E:/TFOD/TFODCourse/Tensorflow/workspace/images/collectedimages/livelong/livelong.82d576ac-1ae3-11ec-b581-f8281984c232.xml\n",
      "Image:E:\\TFOD\\TFODCourse\\Tensorflow\\workspace\\images\\collectedimages\\livelong\\livelong.819d9e9e-1ae3-11ec-85e4-f8281984c232.jpg -> Annotation:E:/TFOD/TFODCourse/Tensorflow/workspace/images/collectedimages/livelong/livelong.819d9e9e-1ae3-11ec-85e4-f8281984c232.xml\n",
      "Image:E:\\TFOD\\TFODCourse\\Tensorflow\\workspace\\images\\collectedimages\\livelong\\livelong.80673cb1-1ae3-11ec-95ec-f8281984c232.jpg -> Annotation:E:/TFOD/TFODCourse/Tensorflow/workspace/images/collectedimages/livelong/livelong.80673cb1-1ae3-11ec-95ec-f8281984c232.xml\n",
      "Image:E:\\TFOD\\TFODCourse\\Tensorflow\\workspace\\images\\collectedimages\\peace\\peace.76c0b0bf-1ae3-11ec-9146-f8281984c232.jpg -> Annotation:E:/TFOD/TFODCourse/Tensorflow/workspace/images/collectedimages/peace/peace.76c0b0bf-1ae3-11ec-9146-f8281984c232.xml\n",
      "Image:E:\\TFOD\\TFODCourse\\Tensorflow\\workspace\\images\\collectedimages\\peace\\peace.77f75e4f-1ae3-11ec-b3c1-f8281984c232.jpg -> Annotation:E:/TFOD/TFODCourse/Tensorflow/workspace/images/collectedimages/peace/peace.77f75e4f-1ae3-11ec-b3c1-f8281984c232.xml\n",
      "Image:E:\\TFOD\\TFODCourse\\Tensorflow\\workspace\\images\\collectedimages\\peace\\peace.792d1e96-1ae3-11ec-a8eb-f8281984c232.jpg -> Annotation:E:/TFOD/TFODCourse/Tensorflow/workspace/images/collectedimages/peace/peace.792d1e96-1ae3-11ec-a8eb-f8281984c232.xml\n",
      "Image:E:\\TFOD\\TFODCourse\\Tensorflow\\workspace\\images\\collectedimages\\peace\\peace.74513ca5-1ae3-11ec-ad0b-f8281984c232.jpg -> Annotation:E:/TFOD/TFODCourse/Tensorflow/workspace/images/collectedimages/peace/peace.74513ca5-1ae3-11ec-ad0b-f8281984c232.xml\n",
      "Image:E:\\TFOD\\TFODCourse\\Tensorflow\\workspace\\images\\collectedimages\\peace\\peace.75893139-1ae3-11ec-9e75-f8281984c232.jpg -> Annotation:E:/TFOD/TFODCourse/Tensorflow/workspace/images/collectedimages/peace/peace.75893139-1ae3-11ec-9e75-f8281984c232.xml\n",
      "Image:E:\\TFOD\\TFODCourse\\Tensorflow\\workspace\\images\\collectedimages\\thumbsdown\\thumbsdown.6aa656b4-1ae3-11ec-9677-f8281984c232.jpg -> Annotation:E:/TFOD/TFODCourse/Tensorflow/workspace/images/collectedimages/thumbsdown/thumbsdown.6aa656b4-1ae3-11ec-9677-f8281984c232.xml\n",
      "Image:E:\\TFOD\\TFODCourse\\Tensorflow\\workspace\\images\\collectedimages\\thumbsdown\\thumbsdown.6bde9518-1ae3-11ec-a0f5-f8281984c232.jpg -> Annotation:E:/TFOD/TFODCourse/Tensorflow/workspace/images/collectedimages/thumbsdown/thumbsdown.6bde9518-1ae3-11ec-a0f5-f8281984c232.xml\n",
      "Image:E:\\TFOD\\TFODCourse\\Tensorflow\\workspace\\images\\collectedimages\\thumbsdown\\thumbsdown.6d15d283-1ae3-11ec-aef3-f8281984c232.jpg -> Annotation:E:/TFOD/TFODCourse/Tensorflow/workspace/images/collectedimages/thumbsdown/thumbsdown.6d15d283-1ae3-11ec-aef3-f8281984c232.xml\n",
      "Image:E:\\TFOD\\TFODCourse\\Tensorflow\\workspace\\images\\collectedimages\\thumbsdown\\thumbsdown.6e4cdcdd-1ae3-11ec-9d4f-f8281984c232.jpg -> Annotation:E:/TFOD/TFODCourse/Tensorflow/workspace/images/collectedimages/thumbsdown/thumbsdown.6e4cdcdd-1ae3-11ec-9d4f-f8281984c232.xml\n",
      "Image:E:\\TFOD\\TFODCourse\\Tensorflow\\workspace\\images\\collectedimages\\thumbsdown\\thumbsdown.6f90d1b6-1ae3-11ec-8ce1-f8281984c232.jpg -> Annotation:E:/TFOD/TFODCourse/Tensorflow/workspace/images/collectedimages/thumbsdown/thumbsdown.6f90d1b6-1ae3-11ec-8ce1-f8281984c232.xml\n",
      "Image:E:\\TFOD\\TFODCourse\\Tensorflow\\workspace\\images\\collectedimages\\thumbsup\\thumbsup.64b2db4e-1ae3-11ec-92ff-f8281984c232.jpg -> Annotation:E:/TFOD/TFODCourse/Tensorflow/workspace/images/collectedimages/thumbsup/thumbsup.64b2db4e-1ae3-11ec-92ff-f8281984c232.xml\n",
      "Image:E:\\TFOD\\TFODCourse\\Tensorflow\\workspace\\images\\collectedimages\\thumbsup\\thumbsup.65ea9c88-1ae3-11ec-9eac-f8281984c232.jpg -> Annotation:E:/TFOD/TFODCourse/Tensorflow/workspace/images/collectedimages/thumbsup/thumbsup.65ea9c88-1ae3-11ec-9eac-f8281984c232.xml\n",
      "Image:E:\\TFOD\\TFODCourse\\Tensorflow\\workspace\\images\\collectedimages\\thumbsup\\thumbsup.600f270b-1ae3-11ec-821f-f8281984c232.jpg -> Annotation:E:/TFOD/TFODCourse/Tensorflow/workspace/images/collectedimages/thumbsup/thumbsup.600f270b-1ae3-11ec-821f-f8281984c232.xml\n",
      "Image:E:\\TFOD\\TFODCourse\\Tensorflow\\workspace\\images\\collectedimages\\thumbsup\\thumbsup.637cd4ad-1ae3-11ec-92e9-f8281984c232.jpg -> Annotation:E:/TFOD/TFODCourse/Tensorflow/workspace/images/collectedimages/thumbsup/thumbsup.637cd4ad-1ae3-11ec-92e9-f8281984c232.xml\n",
      "Image:E:\\TFOD\\TFODCourse\\Tensorflow\\workspace\\images\\collectedimages\\thumbsup\\thumbsup.6244e67a-1ae3-11ec-b3e6-f8281984c232.jpg -> Annotation:E:/TFOD/TFODCourse/Tensorflow/workspace/images/collectedimages/thumbsup/thumbsup.6244e67a-1ae3-11ec-b3e6-f8281984c232.xml\n"
     ]
    },
    {
     "name": "stderr",
     "output_type": "stream",
     "text": [
      "labelImg.py:965: DeprecationWarning: an integer is required (got type float).  Implicit conversion to integers using __int__ is deprecated, and may be removed in a future version of Python.\n",
      "  bar.setValue(bar.value() + bar.singleStep() * units)\n"
     ]
    }
   ],
   "source": [
    "!cd {LABELIMG_PATH} && python labelImg.py"
   ]
  },
  {
   "cell_type": "markdown",
   "metadata": {},
   "source": [
    "# 6. Move them into a Training and Testing Partition"
   ]
  },
  {
   "cell_type": "markdown",
   "metadata": {},
   "source": [
    "# OPTIONAL - 7. Compress them for Colab Training"
   ]
  },
  {
   "cell_type": "code",
   "execution_count": 4,
   "metadata": {},
   "outputs": [],
   "source": [
    "TRAIN_PATH = os.path.join('Tensorflow', 'workspace', 'images', 'train')\n",
    "TEST_PATH = os.path.join('Tensorflow', 'workspace', 'images', 'test')\n",
    "ARCHIVE_PATH = os.path.join('Tensorflow', 'workspace', 'images', 'archive.tar.gz')"
   ]
  },
  {
   "cell_type": "code",
   "execution_count": 5,
   "metadata": {},
   "outputs": [],
   "source": [
    "!tar -czf {ARCHIVE_PATH} {TRAIN_PATH} {TEST_PATH}"
   ]
  },
  {
   "cell_type": "code",
   "execution_count": null,
   "metadata": {},
   "outputs": [],
   "source": []
  },
  {
   "cell_type": "code",
   "execution_count": 7,
   "metadata": {},
   "outputs": [
    {
     "ename": "NameError",
     "evalue": "name 'hello' is not defined",
     "output_type": "error",
     "traceback": [
      "\u001b[1;31m---------------------------------------------------------------------------\u001b[0m",
      "\u001b[1;31mNameError\u001b[0m                                 Traceback (most recent call last)",
      "\u001b[1;32m~\\AppData\\Local\\Temp/ipykernel_12100/880895864.py\u001b[0m in \u001b[0;36m<module>\u001b[1;34m\u001b[0m\n\u001b[1;32m----> 1\u001b[1;33m \u001b[0mprint\u001b[0m \u001b[1;33m(\u001b[0m\u001b[0mhello\u001b[0m\u001b[1;33m)\u001b[0m\u001b[1;33m\u001b[0m\u001b[1;33m\u001b[0m\u001b[0m\n\u001b[0m",
      "\u001b[1;31mNameError\u001b[0m: name 'hello' is not defined"
     ]
    }
   ],
   "source": []
  },
  {
   "cell_type": "code",
   "execution_count": null,
   "metadata": {},
   "outputs": [],
   "source": []
  }
 ],
 "metadata": {
  "kernelspec": {
   "display_name": "tfodj",
   "language": "python",
   "name": "tfodj"
  },
  "language_info": {
   "codemirror_mode": {
    "name": "ipython",
    "version": 3
   },
   "file_extension": ".py",
   "mimetype": "text/x-python",
   "name": "python",
   "nbconvert_exporter": "python",
   "pygments_lexer": "ipython3",
   "version": "3.8.8"
  }
 },
 "nbformat": 4,
 "nbformat_minor": 2
}
